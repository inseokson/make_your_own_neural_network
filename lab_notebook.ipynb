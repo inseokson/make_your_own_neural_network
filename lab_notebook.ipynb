{
 "cells": [
  {
   "cell_type": "markdown",
   "metadata": {},
   "source": [
    "Hidden Layer가 하나인 Shallow Network를 만들고 MNIST 데이터셋을 이용하여 테스트하는 과정이 담긴 노트북이다."
   ]
  },
  {
   "cell_type": "code",
   "execution_count": 1,
   "metadata": {},
   "outputs": [],
   "source": [
    "import numpy as np\n",
    "import pandas as pd\n",
    "import imageio\n",
    "import os\n",
    "from scipy import ndimage\n",
    "\n",
    "import matplotlib.pyplot as plt\n",
    "%matplotlib inline"
   ]
  },
  {
   "cell_type": "markdown",
   "metadata": {},
   "source": [
    "# Shallow Neural Network Code"
   ]
  },
  {
   "cell_type": "markdown",
   "metadata": {},
   "source": [
    "신경망이 갖춰야 할 가장 기본적인 요소 3가지만으로도 충분히 멋진 Network를 만들 수 있다!\n",
    "1. 초기화: 입력, 은닉, 출력 노드의 수 결정\n",
    "2. 학습: 학습 데이터들을 통해 학습하고 이에 따라 가중치를 업데이트\n",
    "3. 질의 입력을 받아 연산한 후 출력 노드에서 답을 전달"
   ]
  },
  {
   "cell_type": "markdown",
   "metadata": {},
   "source": [
    "## 1. 초기화"
   ]
  },
  {
   "cell_type": "markdown",
   "metadata": {},
   "source": [
    "### 1. 각 Layer의 Node 수 결정"
   ]
  },
  {
   "cell_type": "markdown",
   "metadata": {},
   "source": [
    "각 Layer의 Node 개수는 `class`를 선언할 때부터 입력되어야 할 가장 기본적인 요소이다. 따라서 객체를 생성할 때 가장 먼저 입력받도록 `__init__()`에 추가한다.\n",
    "- `inputnodes`: Input Layer의 Node 개수 (입력받는 Data의 개수와 동일해야 함)\n",
    "- `hiddennodes`: Hidden Layer의 Node 개수\n",
    "- `outputnodes`: Output Layer의 Node 개수"
   ]
  },
  {
   "cell_type": "markdown",
   "metadata": {},
   "source": [
    "### 2. Learning Rate"
   ]
  },
  {
   "cell_type": "markdown",
   "metadata": {},
   "source": [
    "Learning Rate 또한 무조건 필요한 요소이므로 `__init__()`에 추가한다.\n",
    "- `learning_rate`: Learning Rate"
   ]
  },
  {
   "cell_type": "markdown",
   "metadata": {},
   "source": [
    "### 3. Weight Matrix"
   ]
  },
  {
   "cell_type": "markdown",
   "metadata": {},
   "source": [
    "- 가중치 행렬은 (뒷 Layer의 Node 개수 x 앞 Layer의 Node 개수)로 정의할 수 있다.\n",
    "- 가중치는 호출되었을 때 사용되었다가 사라지는 값이 아니고, 처음부터 끝까지 함께하는 값이므로 모든 함수들에서 접근 가능하도록 구성해야 한다.\n",
    "- Parameter에 따른 성과 비교를 위해 동일한 초기 가중치를 이용해야 하는 경우가 있으므로 초기 가중치를 입력할 수 있도록 `class`를 작성하였다.\n",
    "- 지정된 초기 가중치가 없는 경우에는 [0, 1)의 범위에서 임의의 값을 추출하는 `numpy.random.rand(n_rows, n_columns)` 함수를 통해 만들어진 (n_rows x n_columns) 행렬을 0.5를 빼 [-0.5, 0.5)의 범위를 가지도록 값을 조정한 후 초기 가중치로 사용한다.\n"
   ]
  },
  {
   "cell_type": "markdown",
   "metadata": {},
   "source": [
    "## 2. Activation Function"
   ]
  },
  {
   "cell_type": "markdown",
   "metadata": {},
   "source": [
    "Activation Function으로는 가장 기본적인 Sigmoid Function을 사용한다. Sigmoid Function은 다음과 같이 정의된다."
   ]
  },
  {
   "cell_type": "markdown",
   "metadata": {},
   "source": [
    "$$sigmoid(x) = \\dfrac{1}{1+e^{-x}}$$"
   ]
  },
  {
   "cell_type": "markdown",
   "metadata": {},
   "source": [
    "## 3. Forward Propagation"
   ]
  },
  {
   "cell_type": "markdown",
   "metadata": {},
   "source": [
    "Query와 Backpropagation에 필요한 Error를 계산하기 위한 Forward Propagation은 다음과 같은 행렬식을 이용하면 간단히 해결된다."
   ]
  },
  {
   "cell_type": "markdown",
   "metadata": {},
   "source": [
    "$\\text{(i-layer} \\rightarrow \\text{j-layer)}$"
   ]
  },
  {
   "cell_type": "markdown",
   "metadata": {},
   "source": [
    "$$X_j = W_{ij} O_{i} \\; \\rightarrow \\; O_{j}=sigmoid(X_j)$$"
   ]
  },
  {
   "cell_type": "markdown",
   "metadata": {},
   "source": [
    "where"
   ]
  },
  {
   "cell_type": "markdown",
   "metadata": {},
   "source": [
    "$$W_{ij}=\n",
    "\\begin{bmatrix}\n",
    "w_{1, 1} & w_{2, 1} & w_{3, 1} & \\cdots \\\\\n",
    "w_{1, 2} & w_{2, 2} & w_{3, 2} & \\cdots \\\\\n",
    "\\vdots & \\vdots & \\vdots & \\ddots\n",
    "\\end{bmatrix}, \\;\n",
    "O_i = \n",
    "\\begin{bmatrix}\n",
    "O_{i, 1} \\\\\n",
    "O_{i, 2} \\\\\n",
    "O_{i, 3} \\\\\n",
    "\\vdots\n",
    "\\end{bmatrix}, \\;\n",
    "O_j = \n",
    "\\begin{bmatrix}\n",
    "O_{j, 1} \\\\\n",
    "O_{j, 2} \\\\\n",
    "O_{j, 3} \\\\\n",
    "\\vdots\n",
    "\\end{bmatrix}$$"
   ]
  },
  {
   "cell_type": "markdown",
   "metadata": {},
   "source": [
    "이 때 비중 행렬의 Index가 우리가 일반적으로 생각하는 것과 반대인 것에 주의한다. (이는 Neural Network 분야의 Convention이다.)"
   ]
  },
  {
   "cell_type": "markdown",
   "metadata": {},
   "source": [
    "## 4. Backpropagation and Weights Update"
   ]
  },
  {
   "cell_type": "markdown",
   "metadata": {},
   "source": [
    "Backpropagation을 이용하여 Weight에 비례해 오차를 역전파시킨 후 재조합하여 Output Layer를 제외한 Node들의 Error를 계산하고, Error를 바탕으로 Weight를 Update해주는 과정을 거친다. 상세한 내용은 책을 참고한다."
   ]
  },
  {
   "cell_type": "markdown",
   "metadata": {},
   "source": [
    "$\\text{(i-layer} \\rightarrow \\text{j-layer} \\rightarrow \\text{k-layer)}$"
   ]
  },
  {
   "cell_type": "markdown",
   "metadata": {},
   "source": [
    "$$E_j = W_{j,k}^T E_k$$"
   ]
  },
  {
   "cell_type": "markdown",
   "metadata": {},
   "source": [
    "$$w_{i,j}:=w_{i,j}-\\alpha\\dfrac{\\partial{E_j}}{\\partial{w_{i,j}}}$$"
   ]
  },
  {
   "cell_type": "markdown",
   "metadata": {},
   "source": [
    "$$\\Delta{W_{i,j}}=\\alpha\n",
    "\\begin{bmatrix}\n",
    "E_{j, 1}O_{j, 1}(1-O_{j, 1}) \\\\\n",
    "E_{j, 2}O_{j, 2}(1-O_{j, 2}) \\\\\n",
    "E_{j, 3}O_{j, 3}(1-O_{j, 3}) \\\\\n",
    "\\vdots\n",
    "\\end{bmatrix}\n",
    "\\begin{bmatrix}\n",
    "O_{i, 1} & O_{i, 2} & O_{i, 3} & \\cdots\n",
    "\\end{bmatrix}$$"
   ]
  },
  {
   "cell_type": "markdown",
   "metadata": {},
   "source": [
    "## 5. Code\n",
    "아래 `class`는 위의 내용을 바탕으로 Shallow Neural Network를 직접 구현한 것이다."
   ]
  },
  {
   "cell_type": "code",
   "execution_count": 2,
   "metadata": {},
   "outputs": [],
   "source": [
    "# Neural Network class definition\n",
    "class neuralNetwork(object):\n",
    "    \n",
    "    # Initialize the neural network\n",
    "    def __init__(self, inputnodes, hiddennodes, outputnodes, learning_rate, w_ih=None, w_ho=None):\n",
    "        self.inputnodes = inputnodes\n",
    "        self.hiddennodes = hiddennodes\n",
    "        self.outputnodes = outputnodes\n",
    "        \n",
    "        self.lr = learning_rate\n",
    "        \n",
    "        # Input Layer - Hidden Layer 사이의 가중치\n",
    "        if w_ih is None:\n",
    "            self.w_ih = np.random.rand(self.hiddennodes, self.inputnodes) - 0.5\n",
    "        else:\n",
    "            self.w_ih = w_ih.copy()\n",
    "        \n",
    "        # Hidden Layer - Output Layer 사이의 가중치\n",
    "        if w_ho is None:\n",
    "            self.w_ho = np.random.rand(self.outputnodes, self.hiddennodes) - 0.5\n",
    "        else:\n",
    "            self.w_ho = w_ho.copy()\n",
    "    \n",
    "    # Define sigmoid function\n",
    "    def sigmoid(self, x):\n",
    "        return 1 / (1 + np.exp(-x))\n",
    "        \n",
    "    # Train the neural network\n",
    "    def train(self, inputs, targets):\n",
    "        inputs = np.array(inputs, ndmin=2).T\n",
    "        targets = np.array(targets, ndmin=2).T\n",
    "        \n",
    "        # Forward propagation\n",
    "        hidden_input = self.w_ih @ inputs\n",
    "        hidden_output = self.sigmoid(hidden_input)\n",
    "        \n",
    "        final_input = self.w_ho @ hidden_output\n",
    "        final_output = self.sigmoid(final_input)\n",
    "        \n",
    "        # Backpropagation\n",
    "        final_error = targets - final_output\n",
    "        self.w_ho += self.lr * (final_error * final_output * (1 - final_output)) @ hidden_output.T\n",
    "        \n",
    "        hidden_error = self.w_ho.T @ final_error\n",
    "        self.w_ih += self.lr * (hidden_error * hidden_output * (1 - hidden_output)) @ inputs.T\n",
    "        \n",
    "    # Query the neural network\n",
    "    def query(self, inputs):\n",
    "        inputs = np.array(inputs, ndmin=2).T\n",
    "        \n",
    "        hidden_input = self.w_ih @ inputs\n",
    "        hidden_output = self.sigmoid(hidden_input)\n",
    "        \n",
    "        final_input = self.w_ho @ hidden_output\n",
    "        final_output = self.sigmoid(final_input)\n",
    "        \n",
    "        return final_output"
   ]
  },
  {
   "cell_type": "markdown",
   "metadata": {},
   "source": [
    "***"
   ]
  },
  {
   "cell_type": "markdown",
   "metadata": {},
   "source": [
    "# Shallow Neural Network Test Using MNIST Dataset"
   ]
  },
  {
   "cell_type": "markdown",
   "metadata": {},
   "source": [
    "## 1. 데이터 준비"
   ]
  },
  {
   "cell_type": "markdown",
   "metadata": {},
   "source": [
    "`MNIST` 데이터셋은 손으로 쓴 숫자 이미지 데이터로 구성되어 있다. 다음 [링크](https://pjreddie.com/projects/mnist-in-csv/)에서 사용받기 쉬운 `csv` 형태의 파일로 Training set(60,000개의 데이터), Test set(10,000개의 데이터)를 다운받을 수 있다."
   ]
  },
  {
   "cell_type": "markdown",
   "metadata": {},
   "source": [
    "데이터셋의 형식은 다음과 같다.\n",
    "- 각 행은 하나의 레코드이며, 행은 엔터(\\n)로 구분되어 있다.\n",
    "- 각 행의 첫 번째 값은 레이블(Label)이다.\n",
    "- 그 이후 784개의 값은 손으로 쓴 숫자의 픽셀값이며, 픽셀 배열의 크기는 28 x 28, 픽셀값은 [0, 255] 사이의 값을 가진다."
   ]
  },
  {
   "cell_type": "markdown",
   "metadata": {},
   "source": [
    "우선 데이터셋을 로드하여 `np.ndarray` 형식으로 변환한다."
   ]
  },
  {
   "cell_type": "code",
   "execution_count": 3,
   "metadata": {},
   "outputs": [],
   "source": [
    "train_data = pd.read_csv(\"data/mnist_train.csv\", header=None)\n",
    "train_data = np.array(train_data)\n",
    "\n",
    "test_data = pd.read_csv(\"data/mnist_test.csv\", header=None)\n",
    "test_data = np.array(test_data)"
   ]
  },
  {
   "cell_type": "markdown",
   "metadata": {},
   "source": [
    "하나의 레코드를 직접 확인해보자."
   ]
  },
  {
   "cell_type": "code",
   "execution_count": 4,
   "metadata": {},
   "outputs": [],
   "source": [
    "def show_mnist(x):\n",
    "    image_array = x.reshape((28, 28))\n",
    "    plt.imshow(image_array, cmap=\"Greys\", interpolation=\"None\")"
   ]
  },
  {
   "cell_type": "code",
   "execution_count": 5,
   "metadata": {},
   "outputs": [
    {
     "name": "stdout",
     "output_type": "stream",
     "text": [
      "Label: 5\n"
     ]
    },
    {
     "data": {
      "image/png": "[encoded data removed]",
      "text/plain": [
       "<Figure size 432x288 with 1 Axes>"
      ]
     },
     "metadata": {
      "needs_background": "light"
     },
     "output_type": "display_data"
    }
   ],
   "source": [
    "show_mnist(train_data[0, 1:])\n",
    "print(f\"Label: {train_data[0, 0]}\")"
   ]
  },
  {
   "cell_type": "markdown",
   "metadata": {},
   "source": [
    "손으로 쓴 숫자과 저장된 레이블을 확인할 수 있다."
   ]
  },
  {
   "cell_type": "markdown",
   "metadata": {},
   "source": [
    "### 1. 입력값 조정"
   ]
  },
  {
   "cell_type": "markdown",
   "metadata": {},
   "source": [
    "- 0 ~ 255 사이의 값을 0.01 ~ 1.0 사이의 값으로 조정: $(\\dfrac{x}{255} \\times 0.99) + 0.01$\n",
    "- 0.01부터 시작하는 이유는 입력값이 0이면 가중치 업데이트가 이뤄지지 않기 때문임"
   ]
  },
  {
   "cell_type": "code",
   "execution_count": 6,
   "metadata": {},
   "outputs": [],
   "source": [
    "x_trains = (train_data[:, 1:] * 0.99 / 255) + 0.01"
   ]
  },
  {
   "cell_type": "markdown",
   "metadata": {},
   "source": [
    "### 2. 출력값 조정"
   ]
  },
  {
   "cell_type": "markdown",
   "metadata": {},
   "source": [
    "- Activation function으로 Sigmoide를 사용하고 있으므로 출력값이 0과 1인 경우가 없도록 조정\n",
    "- One-Hot Encoding: Label이 i인 경우 i번째 Element를 0.99로, 나머지 Elements를 0.11로 Encoding\n",
    "    - Label이 0이면: [0.99, 0.01, 0.01, 0.01, 0.01, 0.01, 0.01, 0.01, 0.01, 0.01]\n",
    "    - Label이 5이면: [0.01, 0.01, 0.01, 0.01, 0.01, 0.99, 0.01, 0.01, 0.01, 0.01]"
   ]
  },
  {
   "cell_type": "code",
   "execution_count": 7,
   "metadata": {},
   "outputs": [],
   "source": [
    "y_trains = np.zeros((train_data.shape[0], 10)) + 0.01\n",
    "\n",
    "for i in range(train_data.shape[0]):\n",
    "    label = train_data[i, 0]\n",
    "    y_trains[i, label] = 0.99"
   ]
  },
  {
   "cell_type": "markdown",
   "metadata": {},
   "source": [
    "## 2. Shallow Neural Network 학습 및 검증"
   ]
  },
  {
   "cell_type": "markdown",
   "metadata": {},
   "source": [
    "### 1. Neural Network 객체 생성 및 초기화"
   ]
  },
  {
   "cell_type": "markdown",
   "metadata": {},
   "source": [
    "- Input Data가 784개의 Elements(28 x 28)로 구성되므로 Input Node의 개수를 784로, 출력값은 One-Hot Encoding을 통해 10개의 Elements를 가진 배열이 나오도록 조정했으므로 Output Node의 개수는 10개로 고정해야 한다. Hidden Layer의 Node는 임의로 100개로 지정한다.\n",
    "- Learning Rate는 0.3으로, Weight Matrix는 추가 실험을 위해 미리 생성하고 저장해둔다."
   ]
  },
  {
   "cell_type": "code",
   "execution_count": 8,
   "metadata": {},
   "outputs": [],
   "source": [
    "# number of input, hidden and output nodes\n",
    "input_nodes = 784  # 28 x 28 images\n",
    "hidden_nodes = 100\n",
    "output_nodes = 10\n",
    "\n",
    "# define learning rate\n",
    "learning_rate = 0.3\n",
    "\n",
    "# initialize weights\n",
    "w_ih = np.random.rand(hidden_nodes, input_nodes) - 0.5\n",
    "w_ho = np.random.rand(output_nodes, hidden_nodes) - 0.5\n",
    "\n",
    "# create instance of neural network\n",
    "nn = neuralNetwork(input_nodes, hidden_nodes, output_nodes, learning_rate, w_ih, w_ho)"
   ]
  },
  {
   "cell_type": "markdown",
   "metadata": {},
   "source": [
    "### 2. Neural Network 학습"
   ]
  },
  {
   "cell_type": "markdown",
   "metadata": {},
   "source": [
    "Training set 전체를 이용하여 학습한다."
   ]
  },
  {
   "cell_type": "code",
   "execution_count": 9,
   "metadata": {},
   "outputs": [],
   "source": [
    "for i in range(train_data.shape[0]):\n",
    "    x_train = x_trains[i]\n",
    "    y_train = y_trains[i]\n",
    "    \n",
    "    nn.train(x_train, y_train)"
   ]
  },
  {
   "cell_type": "markdown",
   "metadata": {},
   "source": [
    "### 3. Neural Network 검증"
   ]
  },
  {
   "cell_type": "markdown",
   "metadata": {},
   "source": [
    "검증 이전에 Test set을 Training set과 같이 조정한다."
   ]
  },
  {
   "cell_type": "code",
   "execution_count": 10,
   "metadata": {},
   "outputs": [],
   "source": [
    "x_tests = (test_data[:, 1:] * 0.99 / 255) + 0.01\n",
    "y_tests = test_data[:, 0]"
   ]
  },
  {
   "cell_type": "markdown",
   "metadata": {},
   "source": [
    "실제로 Network에 Test set을 입력한 후 계산된 예측값이 실제 레이블과 같은지 확인하고 정확도를 계산해본다."
   ]
  },
  {
   "cell_type": "code",
   "execution_count": 11,
   "metadata": {
    "scrolled": true
   },
   "outputs": [
    {
     "name": "stdout",
     "output_type": "stream",
     "text": [
      "Accuracy: 9166 / 10000, (91.66%)\n"
     ]
    }
   ],
   "source": [
    "score = 0\n",
    "for i in range(x_tests.shape[0]):\n",
    "    nn_output = nn.query(x_tests[i])\n",
    "    nn_label = np.argmax(nn_output)\n",
    "    \n",
    "    real_label = y_tests[i]\n",
    "    \n",
    "    if nn_label == real_label:\n",
    "        score += 1\n",
    "\n",
    "print(f\"Accuracy: {score} / {x_tests.shape[0]}, ({np.round(100 * score / x_tests.shape[0], 2)}%)\")"
   ]
  },
  {
   "cell_type": "markdown",
   "metadata": {},
   "source": [
    "Random한 요소가 존재하므로 코드를 실행시킬 때마다 정확도가 달라지겠지만, 단순한 구조의 신경망으로도 생각보다 높은 정확도(90% 초중반대)를 얻을 수 있다!"
   ]
  },
  {
   "cell_type": "markdown",
   "metadata": {},
   "source": [
    "***"
   ]
  },
  {
   "cell_type": "markdown",
   "metadata": {},
   "source": [
    "# Hyperparameter와 Performance"
   ]
  },
  {
   "cell_type": "markdown",
   "metadata": {},
   "source": [
    "우리가 임의로 결정한 몇 가지 요소들이 있었다. 이러한 요소들은 하이퍼파라미터(Hyperparameter)라 하며, 경험이나 실험을 통해 값을 결정하게 된다. 아래 부분에서 하이퍼파라미터에 따라 Network의 성능이 어떻게 변화하는지 확인해본다."
   ]
  },
  {
   "cell_type": "markdown",
   "metadata": {},
   "source": [
    "## 1. 학습률"
   ]
  },
  {
   "cell_type": "code",
   "execution_count": 12,
   "metadata": {},
   "outputs": [
    {
     "name": "stderr",
     "output_type": "stream",
     "text": [
      "C:\\Users\\inseok\\anaconda3\\envs\\isson\\lib\\site-packages\\ipykernel_launcher.py:26: RuntimeWarning: overflow encountered in exp\n"
     ]
    }
   ],
   "source": [
    "learning_rates = np.array(range(1, 10)) / 10\n",
    "scores = []\n",
    "\n",
    "for learning_rate in learning_rates:\n",
    "    nn = neuralNetwork(input_nodes, hidden_nodes, output_nodes, learning_rate, w_ih, w_ho)\n",
    "    \n",
    "    for i in range(train_data.shape[0]):\n",
    "        x_train = x_trains[i]\n",
    "        y_train = y_trains[i]\n",
    "\n",
    "        nn.train(x_train, y_train)\n",
    "    \n",
    "    score = 0\n",
    "    for i in range(x_tests.shape[0]):\n",
    "        nn_output = nn.query(x_tests[i])\n",
    "        nn_label = np.argmax(nn_output)\n",
    "        real_label = y_tests[i]\n",
    "\n",
    "        if nn_label == real_label:\n",
    "            score += 1\n",
    "    \n",
    "    scores.append(score)\n",
    "\n",
    "accuracy = np.array(scores) / test_data.shape[0]"
   ]
  },
  {
   "cell_type": "code",
   "execution_count": 13,
   "metadata": {},
   "outputs": [
    {
     "data": {
      "text/plain": [
       "Text(0, 0.5, 'Accuracy')"
      ]
     },
     "execution_count": 13,
     "metadata": {},
     "output_type": "execute_result"
    },
    {
     "data": {
      "image/png": "[encoded data removed]",
      "text/plain": [
       "<Figure size 432x288 with 1 Axes>"
      ]
     },
     "metadata": {
      "needs_background": "light"
     },
     "output_type": "display_data"
    }
   ],
   "source": [
    "plt.plot(learning_rates, accuracy)\n",
    "\n",
    "plt.title(\"Learning Rate and Accuracy\")\n",
    "plt.xlabel(\"Learning Rate\")\n",
    "plt.ylabel(\"Accuracy\")"
   ]
  },
  {
   "cell_type": "markdown",
   "metadata": {},
   "source": [
    "## 2. 주기(Epoch)"
   ]
  },
  {
   "cell_type": "markdown",
   "metadata": {},
   "source": [
    "데이터셋 전체를 한 번씩 사용하여 학습을 수행하면 1주기(epoch)라 한다. 동일한 데이터셋을 반복하여 학습하는 것은 가중치의 값이 업데이트 되는 과정에서 더 많은 가능성을 제공하기 때문에 신경망의 성능을 개선할 수도 있다."
   ]
  },
  {
   "cell_type": "code",
   "execution_count": 14,
   "metadata": {},
   "outputs": [],
   "source": [
    "learning_rate = 0.3\n",
    "epochs = np.array(range(1, 21))\n",
    "scores = []\n",
    "\n",
    "nn = neuralNetwork(input_nodes, hidden_nodes, output_nodes, learning_rate, w_ih, w_ho)\n",
    "\n",
    "for epoch in epochs:\n",
    "    for i in range(train_data.shape[0]):\n",
    "        x_train = x_trains[i]\n",
    "        y_train = y_trains[i]\n",
    "\n",
    "        nn.train(x_train, y_train)\n",
    "    \n",
    "    score = 0\n",
    "    for i in range(x_tests.shape[0]):\n",
    "        nn_output = nn.query(x_tests[i])\n",
    "        nn_label = np.argmax(nn_output)\n",
    "        real_label = y_tests[i]\n",
    "\n",
    "        if nn_label == real_label:\n",
    "            score += 1\n",
    "    \n",
    "    scores.append(score)\n",
    "\n",
    "accuracy = np.array(scores) / test_data.shape[0]"
   ]
  },
  {
   "cell_type": "code",
   "execution_count": 15,
   "metadata": {},
   "outputs": [
    {
     "data": {
      "text/plain": [
       "Text(0, 0.5, 'Accuracy')"
      ]
     },
     "execution_count": 15,
     "metadata": {},
     "output_type": "execute_result"
    },
    {
     "data": {
      "image/png": "[encoded data removed]",
      "text/plain": [
       "<Figure size 432x288 with 1 Axes>"
      ]
     },
     "metadata": {
      "needs_background": "light"
     },
     "output_type": "display_data"
    }
   ],
   "source": [
    "plt.plot(epochs, accuracy)\n",
    "\n",
    "plt.title(\"Epochs and Accuracy\")\n",
    "plt.xlabel(\"Learning Rate\")\n",
    "plt.ylabel(\"Accuracy\")"
   ]
  },
  {
   "cell_type": "markdown",
   "metadata": {},
   "source": [
    "## 3. 학습 데이터의 순서"
   ]
  },
  {
   "cell_type": "markdown",
   "metadata": {},
   "source": [
    "이 테스트는 책에서 다루지 않는 테스트이며 개인적인 궁금증으로 확인해본 것이다. 결과를 미리 적자면 학습 데이터의 순서는 Network에 영향을 **미친다.** 추가적인 검색을 통해서 확인해보니 성능에 아주 큰 영향은 미치지 않으나, **'학습 데이터가 Correlated되지 않도록 하라'**가 중론인 것 같다. (구글에서 'order of training data is important to machine learning?'라는 검색어를 입력하면 많은 질답을 확인할 수 있다.)"
   ]
  },
  {
   "cell_type": "markdown",
   "metadata": {},
   "source": [
    "아래는 이를 확인하기 위해 `numpy.random.shuffle()`을 통해 Training set을 섞은 후 학습, 검증한 것이다."
   ]
  },
  {
   "cell_type": "code",
   "execution_count": 16,
   "metadata": {},
   "outputs": [],
   "source": [
    "nn = neuralNetwork(input_nodes, hidden_nodes, output_nodes, learning_rate, w_ih, w_ho)\n",
    "\n",
    "pick_up_order = np.arange(train_data.shape[0])\n",
    "np.random.shuffle(pick_up_order)\n",
    "\n",
    "for i in pick_up_order:\n",
    "    x_train = x_trains[i]\n",
    "    y_train = y_trains[i]\n",
    "    \n",
    "    nn.train(x_train, y_train)"
   ]
  },
  {
   "cell_type": "code",
   "execution_count": 17,
   "metadata": {},
   "outputs": [
    {
     "name": "stdout",
     "output_type": "stream",
     "text": [
      "Accuracy: 9431 / 10000, (94.31%)\n"
     ]
    }
   ],
   "source": [
    "score = 0\n",
    "for i in range(x_tests.shape[0]):\n",
    "    nn_output = nn.query(x_tests[i])\n",
    "    nn_label = np.argmax(nn_output)\n",
    "    real_label = y_tests[i]\n",
    "    \n",
    "    if nn_label == real_label:\n",
    "        score += 1\n",
    "\n",
    "print(f\"Accuracy: {score} / {x_tests.shape[0]}, ({np.round(100 * score / x_tests.shape[0], 2)}%)\")"
   ]
  },
  {
   "cell_type": "markdown",
   "metadata": {},
   "source": [
    "### 4. Hidden Layer의 Node 개수"
   ]
  },
  {
   "cell_type": "markdown",
   "metadata": {},
   "source": [
    "Hidden Layer의 Node 개수를 변경하면 Weight Matrix의 크기 또한 변경해줘야 하므로 비중 행렬 초기화를 계속 해줘야 한다."
   ]
  },
  {
   "cell_type": "code",
   "execution_count": 18,
   "metadata": {},
   "outputs": [],
   "source": [
    "hidden_nodes_list = np.arange(50, 501, 50)\n",
    "scores = []\n",
    "\n",
    "for hidden_nodes in hidden_nodes_list:\n",
    "    w_ih = np.random.rand(hidden_nodes, input_nodes) - 0.5\n",
    "    w_ho = np.random.rand(output_nodes, hidden_nodes) - 0.5\n",
    "    nn = neuralNetwork(input_nodes, hidden_nodes, output_nodes, learning_rate, w_ih, w_ho)\n",
    "\n",
    "    for i in range(train_data.shape[0]):\n",
    "        x_train = x_trains[i]\n",
    "        y_train = y_trains[i]\n",
    "\n",
    "        nn.train(x_train, y_train)\n",
    "    \n",
    "    score = 0\n",
    "    for i in range(x_tests.shape[0]):\n",
    "        nn_output = nn.query(x_tests[i])\n",
    "        nn_label = np.argmax(nn_output)\n",
    "        real_label = y_tests[i]\n",
    "\n",
    "        if nn_label == real_label:\n",
    "            score += 1\n",
    "    \n",
    "    scores.append(score)\n",
    "\n",
    "accuracy = np.array(scores) / test_data.shape[0]"
   ]
  },
  {
   "cell_type": "code",
   "execution_count": 19,
   "metadata": {},
   "outputs": [
    {
     "data": {
      "text/plain": [
       "Text(0, 0.5, 'Accuracy')"
      ]
     },
     "execution_count": 19,
     "metadata": {},
     "output_type": "execute_result"
    },
    {
     "data": {
      "image/png": "[encoded data removed]",
      "text/plain": [
       "<Figure size 432x288 with 1 Axes>"
      ]
     },
     "metadata": {
      "needs_background": "light"
     },
     "output_type": "display_data"
    }
   ],
   "source": [
    "plt.plot(hidden_nodes_list, accuracy)\n",
    "\n",
    "plt.title(\"Number of Hidden Units and Performance\")\n",
    "plt.xlabel(\"Number of Hidden Units\")\n",
    "plt.ylabel(\"Accuracy\")"
   ]
  },
  {
   "cell_type": "markdown",
   "metadata": {},
   "source": [
    "***"
   ]
  },
  {
   "cell_type": "markdown",
   "metadata": {},
   "source": [
    "# 나만의 손글씨 데이터"
   ]
  },
  {
   "cell_type": "markdown",
   "metadata": {},
   "source": [
    "본인이 Windows의 그림판을 이용하여 쓴 글씨를 Network가 분류할 수 있는지 확인해본다. "
   ]
  },
  {
   "cell_type": "markdown",
   "metadata": {},
   "source": [
    "Network로는 처음에 사용했던 구조를 사용한다."
   ]
  },
  {
   "cell_type": "code",
   "execution_count": 20,
   "metadata": {},
   "outputs": [],
   "source": [
    "# number of input, hidden and output nodes\n",
    "input_nodes = 784  # 28 x 28 images\n",
    "hidden_nodes = 100\n",
    "output_nodes = 10\n",
    "\n",
    "# define learning rate\n",
    "learning_rate = 0.3\n",
    "\n",
    "# initialize weights\n",
    "w_ih = np.random.rand(hidden_nodes, input_nodes) - 0.5\n",
    "w_ho = np.random.rand(output_nodes, hidden_nodes) - 0.5\n",
    "\n",
    "# create instance of neural network\n",
    "nn = neuralNetwork(input_nodes, hidden_nodes, output_nodes, learning_rate, w_ih, w_ho)\n",
    "\n",
    "# training neural network\n",
    "for i in range(train_data.shape[0]):\n",
    "    x_train = x_trains[i]\n",
    "    y_train = y_trains[i]\n",
    "    \n",
    "    nn.train(x_train, y_train)"
   ]
  },
  {
   "cell_type": "markdown",
   "metadata": {},
   "source": [
    "`scipy` 라이브러리는 `scipy.misc.imread()` 함수를 1.0.0 버전 이후 Depreciate, 1.2.0 버전 이후 Remove 할 예정이므로 대신 `imageio` 라이브러리의 `imread()` 함수를 사용한다."
   ]
  },
  {
   "cell_type": "code",
   "execution_count": 21,
   "metadata": {},
   "outputs": [],
   "source": [
    "image = imageio.imread(\"data/my_handwriting/three.png\")\n",
    "image_array = image[:, :, 2].flatten()"
   ]
  },
  {
   "cell_type": "markdown",
   "metadata": {},
   "source": [
    "일반적으로 0은 검은색을, 255는 흰색을 가리키지만 `MNIST` 데이터셋은 0을 흰색, 255를 검정으로 표기하고 있기에 이에 맞게 데이터를 가공해주어야 한다."
   ]
  },
  {
   "cell_type": "code",
   "execution_count": 22,
   "metadata": {},
   "outputs": [],
   "source": [
    "image_array = 255.0 - image_array"
   ]
  },
  {
   "cell_type": "markdown",
   "metadata": {},
   "source": [
    "이후 입력값 조정을 해준다."
   ]
  },
  {
   "cell_type": "code",
   "execution_count": 23,
   "metadata": {},
   "outputs": [],
   "source": [
    "image_array = (image_array * 0.99 / 255) + 0.01"
   ]
  },
  {
   "cell_type": "markdown",
   "metadata": {},
   "source": [
    "실제 그림과 Network가 예측한 숫자는 다음과 같다."
   ]
  },
  {
   "cell_type": "code",
   "execution_count": 24,
   "metadata": {},
   "outputs": [
    {
     "name": "stdout",
     "output_type": "stream",
     "text": [
      "Network said this is 3\n"
     ]
    },
    {
     "data": {
      "image/png": "[encoded data removed]",
      "text/plain": [
       "<Figure size 432x288 with 1 Axes>"
      ]
     },
     "metadata": {
      "needs_background": "light"
     },
     "output_type": "display_data"
    }
   ],
   "source": [
    "show_mnist(image_array.reshape((28, 28)))\n",
    "print(f\"Network said this is {np.argmax(nn.query(image_array))}\")"
   ]
  },
  {
   "cell_type": "markdown",
   "metadata": {},
   "source": [
    "내가 쓴 모든 글씨에 대해서 예측을 해보자."
   ]
  },
  {
   "cell_type": "code",
   "execution_count": 25,
   "metadata": {},
   "outputs": [
    {
     "data": {
      "image/png": "[encoded data removed]",
      "text/plain": [
       "<Figure size 432x288 with 1 Axes>"
      ]
     },
     "metadata": {
      "needs_background": "light"
     },
     "output_type": "display_data"
    },
    {
     "name": "stdout",
     "output_type": "stream",
     "text": [
      "Network said this is 2\n"
     ]
    },
    {
     "data": {
      "image/png": "[encoded data removed]",
      "text/plain": [
       "<Figure size 432x288 with 1 Axes>"
      ]
     },
     "metadata": {
      "needs_background": "light"
     },
     "output_type": "display_data"
    },
    {
     "name": "stdout",
     "output_type": "stream",
     "text": [
      "Network said this is 2\n"
     ]
    },
    {
     "data": {
      "image/png": "[encoded data removed]",
      "text/plain": [
       "<Figure size 432x288 with 1 Axes>"
      ]
     },
     "metadata": {
      "needs_background": "light"
     },
     "output_type": "display_data"
    },
    {
     "name": "stdout",
     "output_type": "stream",
     "text": [
      "Network said this is 3\n"
     ]
    },
    {
     "data": {
      "image/png": "[encoded data removed]",
      "text/plain": [
       "<Figure size 432x288 with 1 Axes>"
      ]
     },
     "metadata": {
      "needs_background": "light"
     },
     "output_type": "display_data"
    },
    {
     "name": "stdout",
     "output_type": "stream",
     "text": [
      "Network said this is 8\n"
     ]
    }
   ],
   "source": [
    "for file_name in [\"one\", \"two\", \"three\", \"four\"]:\n",
    "    image = imageio.imread(f\"data/my_handwriting/{file_name}.png\")\n",
    "    image_array = image[:, :, 2].flatten()\n",
    "    \n",
    "    image_array = 255.0 - image_array\n",
    "    image_array = (image_array * 0.99 / 255) + 0.01\n",
    "    \n",
    "    show_mnist(image_array.reshape((28, 28)))\n",
    "    plt.show()\n",
    "    print(f\"Network said this is {np.argmax(nn.query(image_array))}\")"
   ]
  },
  {
   "cell_type": "markdown",
   "metadata": {},
   "source": [
    "중간이 끊어진 2와 3은 잘 분류한 반면, 1과 4는 정확히 분류하지 못했다. 이는\n",
    "1. 1의 경우 윗/아랫부분을 보면 2로 인식할만 한 것 같고,\n",
    "2. 4의 경우 의도적으로 넣은 Noise 때문에 제대로된 인식을 하지 못한 것으로 보인다."
   ]
  },
  {
   "cell_type": "markdown",
   "metadata": {},
   "source": [
    "***"
   ]
  },
  {
   "cell_type": "markdown",
   "metadata": {},
   "source": [
    "# 신경망의 마음속 들여다보기"
   ]
  },
  {
   "cell_type": "markdown",
   "metadata": {},
   "source": [
    "우리가 작성한 신경망이 어떻게 답을 내는지를 확실하게는 알 수 없다. 하지만 학습 과정이 블랙 박스로 남아 우리의 지식이나 이해로 이어진다면 문제를 더 잘 이해할 수 있게 될 것이다! 가장 먼저 떠올릴 수 있는 방법은 가중치를 확인해보는 것이지만 유용한 정보를 얻기 힘들뿐더러, 하나 또는 상당수의 노드를 제거해도 신경망의 동작이 완전히 손상되는 것이 아니므로 단일 가중치를 일일히 확인해보는 것은 도움이 되지 않을 것이다."
   ]
  },
  {
   "cell_type": "markdown",
   "metadata": {},
   "source": [
    "대신 이미지를 넣으면 신경망이 레이블을 알려주는 과정을 역으로 해보는 것은 어떨까? 신경망이 생각하기에 특정 레이블로 확실하게 분류되기 위해서는 어떤 입력값을 넣어야하는지, 즉 어떤 그림이 입력되어야지 해당 레이블로 분류되는지를 알려줄 것이다. (이러한 과정을 **역질의(Backwards Query)**라 한다.)\n",
    "\n",
    "아래는 책의 [Github page](https://github.com/makeyourownneuralnetwork/makeyourownneuralnetwork)에 작성되어 있는 역질의 관련 코드이다."
   ]
  },
  {
   "cell_type": "code",
   "execution_count": 26,
   "metadata": {},
   "outputs": [],
   "source": [
    "# Define logit function\n",
    "def logit_function(x):\n",
    "    return np.log(x / (1 - x))\n",
    "\n",
    "# Backwards Query\n",
    "def backquery(w_ih, w_ho, targets):\n",
    "    # transpose the targets list to a vertical array\n",
    "    final_outputs = np.array(targets, ndmin=2).T\n",
    "\n",
    "    # calculate the signal into the final output layer\n",
    "    final_inputs = logit_function(final_outputs)\n",
    "\n",
    "    # calculate the signal out of the hidden layer\n",
    "    hidden_outputs = w_ho.T @ final_inputs\n",
    "\n",
    "    # scale them back to 0.01 to .99\n",
    "    hidden_outputs -= np.min(hidden_outputs)\n",
    "    hidden_outputs /= np.max(hidden_outputs)\n",
    "    hidden_outputs *= 0.98\n",
    "    hidden_outputs += 0.01\n",
    "\n",
    "    # calculate the signal into the hidden layer\n",
    "    hidden_inputs = logit_function(hidden_outputs)\n",
    "\n",
    "    # calculate the signal out of the input layer\n",
    "    inputs = w_ih.T @ hidden_inputs\n",
    "\n",
    "    # scale them back to 0.01 to .99\n",
    "    inputs -= np.min(inputs)\n",
    "    inputs /= np.max(inputs)\n",
    "    inputs *= 0.98\n",
    "    inputs += 0.01\n",
    "\n",
    "    return inputs"
   ]
  },
  {
   "cell_type": "code",
   "execution_count": 27,
   "metadata": {},
   "outputs": [
    {
     "data": {
      "image/png": "[encoded data removed]",
      "text/plain": [
       "<Figure size 432x288 with 1 Axes>"
      ]
     },
     "metadata": {
      "needs_background": "light"
     },
     "output_type": "display_data"
    }
   ],
   "source": [
    "i = 0\n",
    "targets = np.array([0.01] * 10)\n",
    "targets[i] = 0.99\n",
    "show_mnist(backquery(nn.w_ih, nn.w_ho, targets).reshape((28, 28)))"
   ]
  },
  {
   "cell_type": "markdown",
   "metadata": {},
   "source": [
    "***"
   ]
  },
  {
   "cell_type": "markdown",
   "metadata": {},
   "source": [
    "# 회전을 통해 새로운 학습 데이터 만들기"
   ]
  },
  {
   "cell_type": "markdown",
   "metadata": {},
   "source": [
    "`MNIST` 데이터셋은 다양한 스타일의 필체가 포함되어 있으며, 다양한 형태의 숫자가 저장되어 있다. 다양한 형태의 데이터를 학습하는 것은 신경망에 있어서 매우 중요한 일이다. 그렇다면 현재의 예제들에 변형을 가해서 새로운 예제들을 만들면 학습에 도움이 되지 않을까? 아이디어를 확인 하기 위해 가장 기본적인 변형인 회전을 통해 새로운 데이터셋을 만들어서 학습 데이터로 사용하고 성과가 개선되었는지 확인해보자"
   ]
  },
  {
   "cell_type": "markdown",
   "metadata": {},
   "source": [
    "변형은 `scipy.ndimage.interpolation.rotate()` 함수를 이용한다. 인자(arguments)는 다음과 같다.\n",
    "- `input`: 입력값은 28 x 28 사이즈의 픽셀값이다.\n",
    "- `angle`: 회전각\n",
    "- `cval`: 이미지를 회전하면 원래의 이미지에는 존재하지 않다가 보여야 하는 부분이 있는데 그 부분을 `cval`에 입력된 값으로 채운다. 우리는 신경망의 입력값으로 0이 들어가는 것을 막기위해 0.01을 입력한다.\n",
    "- `reshape`: 이미지를 찌그러뜨리는 것을 방지하고, 회전 후 이미지가 잘리지 않게 하려면 `False`를 인자로 전달한다."
   ]
  },
  {
   "cell_type": "code",
   "execution_count": 31,
   "metadata": {},
   "outputs": [],
   "source": [
    "rotate_image = lambda x, angle: scipy.ndimage.interpolation.rotate(x.reshape((28, 28)), angle, cval=0.01, reshape=False)"
   ]
  },
  {
   "cell_type": "code",
   "execution_count": 32,
   "metadata": {},
   "outputs": [],
   "source": [
    "x_trains_pos = []\n",
    "x_trains_neg = []\n",
    "for x in x_trains:\n",
    "    x_trains_pos.append(rotate_image(x, 10).reshape(28 * 28))\n",
    "    x_trains_neg.append(rotate_image(x, -10).reshape(28 * 28))\n",
    "\n",
    "x_trains_rotate = np.vstack([x_trains, x_trains_pos, x_trains_neg])\n",
    "y_trains_rotate = np.tile(y_trains, (3, 1))"
   ]
  },
  {
   "cell_type": "code",
   "execution_count": 33,
   "metadata": {},
   "outputs": [],
   "source": [
    "# number of input, hidden and output nodes\n",
    "input_nodes = 784  # 28 x 28 images\n",
    "hidden_nodes = 100\n",
    "output_nodes = 10\n",
    "\n",
    "# define learning rate\n",
    "learning_rate = 0.3\n",
    "\n",
    "# initialize weights\n",
    "w_ih = np.random.rand(hidden_nodes, input_nodes) - 0.5\n",
    "w_ho = np.random.rand(output_nodes, hidden_nodes) - 0.5\n",
    "\n",
    "# create instance of neural network\n",
    "nn = neuralNetwork(input_nodes, hidden_nodes, output_nodes, learning_rate, w_ih, w_ho)\n",
    "\n",
    "# training neural network\n",
    "for i in range(x_trains_rotate.shape[0]):\n",
    "    x_train = x_trains_rotate[i]\n",
    "    y_train = y_trains_rotate[i]\n",
    "    \n",
    "    nn.train(x_train, y_train)"
   ]
  },
  {
   "cell_type": "code",
   "execution_count": 34,
   "metadata": {},
   "outputs": [
    {
     "name": "stdout",
     "output_type": "stream",
     "text": [
      "Accuracy: 9305 / 10000, (93.05%)\n"
     ]
    }
   ],
   "source": [
    "score = 0\n",
    "for i in range(x_tests.shape[0]):\n",
    "    nn_output = nn.query(x_tests[i])\n",
    "    nn_label = np.argmax(nn_output)\n",
    "    \n",
    "    real_label = y_tests[i]\n",
    "    \n",
    "    if nn_label == real_label:\n",
    "        score += 1\n",
    "\n",
    "print(f\"Accuracy: {score} / {x_tests.shape[0]}, ({np.round(100 * score / x_tests.shape[0], 2)}%)\")"
   ]
  },
  {
   "cell_type": "markdown",
   "metadata": {},
   "source": [
    "***"
   ]
  }
 ],
 "metadata": {
  "kernelspec": {
   "display_name": "Python [conda env:isson] *",
   "language": "python",
   "name": "conda-env-isson-py"
  },
  "language_info": {
   "codemirror_mode": {
    "name": "ipython",
    "version": 3
   },
   "file_extension": ".py",
   "mimetype": "text/x-python",
   "name": "python",
   "nbconvert_exporter": "python",
   "pygments_lexer": "ipython3",
   "version": "3.6.9"
  }
 },
 "nbformat": 4,
 "nbformat_minor": 2
}
